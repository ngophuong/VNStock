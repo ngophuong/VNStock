{
 "metadata": {
  "language_info": {
   "codemirror_mode": {
    "name": "ipython",
    "version": 3
   },
   "file_extension": ".py",
   "mimetype": "text/x-python",
   "name": "python",
   "nbconvert_exporter": "python",
   "pygments_lexer": "ipython3",
   "version": "3.8.5"
  },
  "orig_nbformat": 2,
  "kernelspec": {
   "name": "python385jvsc74a57bd0b3ba2566441a7c06988d0923437866b63cedc61552a5af99d1f4fb67d367b25f",
   "display_name": "Python 3.8.5 64-bit (conda)"
  }
 },
 "nbformat": 4,
 "nbformat_minor": 2,
 "cells": [
  {
   "cell_type": "code",
   "execution_count": 6,
   "metadata": {},
   "outputs": [],
   "source": [
    "import pandas as pd\n",
    "import altair as alt\n",
    "import datapane as dp\n",
    "\n",
    "df = pd.read_csv('https://raw.githubusercontent.com/owid/covid-19-data/master/public/data/vaccinations/vaccinations.csv')"
   ]
  },
  {
   "cell_type": "code",
   "execution_count": 7,
   "metadata": {},
   "outputs": [],
   "source": [
    "countries = ['United Kingdom', 'Germany', 'France']\n",
    "subset = df[df.location.isin(countries)]\n",
    "df = df.head(5000)"
   ]
  },
  {
   "cell_type": "code",
   "execution_count": 8,
   "metadata": {},
   "outputs": [],
   "source": [
    "base = alt.Chart(df).encode(\n",
    "    x='date:T',\n",
    "    color='location'\n",
    ").mark_area(\n",
    "    opacity=0.5, \n",
    "    stroke='black'\n",
    ").interactive()"
   ]
  },
  {
   "cell_type": "code",
   "execution_count": 9,
   "metadata": {},
   "outputs": [],
   "source": [
    "c1 = base.encode(y='total_vaccinations_per_hundred')\n",
    "c2 = base.encode(y='daily_vaccinations_per_million')\n",
    "c3 = base.encode(y='people_vaccinated')"
   ]
  },
  {
   "cell_type": "code",
   "execution_count": 10,
   "metadata": {},
   "outputs": [],
   "source": [
    "report = dp.Report(\n",
    "  dp.DataTable(df, caption=f'Dataset for {countries}'),\n",
    "  dp.Group(dp.Plot(c1, caption='Vaccination %'), dp.Plot(c2, caption='Daily vaccinations per million'), columns=2),\n",
    "  dp.Plot(c3, caption='Total vaccinations')\n",
    ")"
   ]
  },
  {
   "cell_type": "code",
   "execution_count": 11,
   "metadata": {},
   "outputs": [
    {
     "output_type": "display_data",
     "data": {
      "text/plain": "<IPython.core.display.Markdown object>",
      "text/markdown": "Publishing document and associated data - *please wait...*"
     },
     "metadata": {}
    },
    {
     "output_type": "display_data",
     "data": {
      "text/plain": "<IPython.core.display.Markdown object>",
      "text/markdown": "Your report doesn't contain any text - did you know you can add text to your report once published?"
     },
     "metadata": {}
    },
    {
     "output_type": "display_data",
     "data": {
      "text/plain": "<IPython.core.display.Markdown object>",
      "text/markdown": "Report successfully published at https://datapane.com/u/phuong/reports/my-covid-report/ - you can edit and add additional text from the link"
     },
     "metadata": {}
    }
   ],
   "source": [
    "report.publish(name='My Covid Report', open=True)"
   ]
  },
  {
   "cell_type": "code",
   "execution_count": null,
   "metadata": {},
   "outputs": [],
   "source": []
  }
 ]
}