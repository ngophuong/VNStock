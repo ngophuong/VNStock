{
 "cells": [
  {
   "cell_type": "code",
   "execution_count": 4,
   "metadata": {},
   "outputs": [
    {
     "name": "stdout",
     "output_type": "stream",
     "text": [
      "Available Themes: \n",
      "   chesterish\n",
      "   grade3\n",
      "   gruvboxd\n",
      "   gruvboxl\n",
      "   monokai\n",
      "   oceans16\n",
      "   onedork\n",
      "   solarizedd\n",
      "   solarizedl\n"
     ]
    }
   ],
   "source": [
    "!jt -l"
   ]
  },
  {
   "cell_type": "code",
   "execution_count": 1,
   "metadata": {},
   "outputs": [],
   "source": [
    "!jt -t monokai -T -N -nfs 14"
   ]
  },
  {
   "cell_type": "code",
   "execution_count": 2,
   "metadata": {},
   "outputs": [],
   "source": [
    "!jt -t oceans16 -T -N -fs 12"
   ]
  },
  {
   "cell_type": "code",
   "execution_count": 3,
   "metadata": {},
   "outputs": [],
   "source": [
    "!jt -t solarizedd -T -N -fs 12"
   ]
  },
  {
   "cell_type": "code",
   "execution_count": 4,
   "metadata": {},
   "outputs": [],
   "source": [
    "!jt -t grade3 -T -N -fs 12"
   ]
  },
  {
   "cell_type": "code",
   "execution_count": 6,
   "metadata": {},
   "outputs": [],
   "source": [
    "!jt -t chesterish -T -N -fs 12"
   ]
  },
  {
   "cell_type": "code",
   "execution_count": 7,
   "metadata": {},
   "outputs": [],
   "source": [
    "!jt -t gruvboxd -T -N -fs 12"
   ]
  },
  {
   "cell_type": "code",
   "execution_count": 8,
   "metadata": {},
   "outputs": [],
   "source": [
    "!jt -t solarizedl -T -N -fs 12"
   ]
  },
  {
   "cell_type": "code",
   "execution_count": 9,
   "metadata": {},
   "outputs": [],
   "source": [
    "!jt -t oceans16 -T -N -fs 12"
   ]
  },
  {
   "cell_type": "code",
   "execution_count": 11,
   "metadata": {},
   "outputs": [],
   "source": [
    "!jt -t oceans16 -cursc r -cursw 5"
   ]
  },
  {
   "cell_type": "code",
   "execution_count": 1,
   "metadata": {},
   "outputs": [],
   "source": [
    "!jt -t oceans16 -T -N -fs 12 -cursc r -cursw 5"
   ]
  },
  {
   "cell_type": "code",
   "execution_count": 1,
   "metadata": {},
<<<<<<< Updated upstream
   "outputs": [],
   "source": [
    "!jt -t solarizedl -T -N -fs 12"
   ]
  },
  {
   "cell_type": "code",
   "execution_count": 2,
   "metadata": {},
   "outputs": [],
   "source": [
    "!jt -t chesterish -T -N -fs 12"
   ]
  },
  {
   "cell_type": "code",
   "execution_count": 1,
   "metadata": {},
   "outputs": [],
   "source": [
    "!jt -t chesterish -T -N -fs 12 -ofs 12"
=======
   "outputs": [
    {
     "name": "stdout",
     "output_type": "stream",
     "text": [
      "Collecting jupyterthemes\n",
      "  Downloading jupyterthemes-0.20.0-py2.py3-none-any.whl (7.0 MB)\n",
      "Requirement already satisfied: jupyter-core in c:\\users\\phuong.ngo\\anaconda3\\lib\\site-packages (from jupyterthemes) (4.6.3)\n",
      "Requirement already satisfied: matplotlib>=1.4.3 in c:\\users\\phuong.ngo\\anaconda3\\lib\\site-packages (from jupyterthemes) (3.3.2)\n",
      "Requirement already satisfied: notebook>=5.6.0 in c:\\users\\phuong.ngo\\anaconda3\\lib\\site-packages (from jupyterthemes) (6.1.4)\n",
      "Collecting lesscpy>=0.11.2\n",
      "  Downloading lesscpy-0.14.0-py2.py3-none-any.whl (46 kB)\n",
      "Requirement already satisfied: ipython>=5.4.1 in c:\\users\\phuong.ngo\\anaconda3\\lib\\site-packages (from jupyterthemes) (7.19.0)\n",
      "Requirement already satisfied: pywin32>=1.0; sys_platform == \"win32\" in c:\\users\\phuong.ngo\\anaconda3\\lib\\site-packages (from jupyter-core->jupyterthemes) (227)\n",
      "Requirement already satisfied: traitlets in c:\\users\\phuong.ngo\\anaconda3\\lib\\site-packages (from jupyter-core->jupyterthemes) (5.0.5)\n",
      "Requirement already satisfied: numpy>=1.15 in c:\\users\\phuong.ngo\\anaconda3\\lib\\site-packages (from matplotlib>=1.4.3->jupyterthemes) (1.19.2)\n",
      "Requirement already satisfied: kiwisolver>=1.0.1 in c:\\users\\phuong.ngo\\anaconda3\\lib\\site-packages (from matplotlib>=1.4.3->jupyterthemes) (1.3.0)\n",
      "Requirement already satisfied: pyparsing!=2.0.4,!=2.1.2,!=2.1.6,>=2.0.3 in c:\\users\\phuong.ngo\\anaconda3\\lib\\site-packages (from matplotlib>=1.4.3->jupyterthemes) (2.4.7)\n",
      "Requirement already satisfied: python-dateutil>=2.1 in c:\\users\\phuong.ngo\\anaconda3\\lib\\site-packages (from matplotlib>=1.4.3->jupyterthemes) (2.8.1)\n",
      "Requirement already satisfied: certifi>=2020.06.20 in c:\\users\\phuong.ngo\\anaconda3\\lib\\site-packages (from matplotlib>=1.4.3->jupyterthemes) (2020.6.20)\n",
      "Requirement already satisfied: pillow>=6.2.0 in c:\\users\\phuong.ngo\\anaconda3\\lib\\site-packages (from matplotlib>=1.4.3->jupyterthemes) (8.0.1)\n",
      "Requirement already satisfied: cycler>=0.10 in c:\\users\\phuong.ngo\\anaconda3\\lib\\site-packages (from matplotlib>=1.4.3->jupyterthemes) (0.10.0)\n",
      "Requirement already satisfied: tornado>=5.0 in c:\\users\\phuong.ngo\\anaconda3\\lib\\site-packages (from notebook>=5.6.0->jupyterthemes) (6.0.4)\n",
      "Requirement already satisfied: pyzmq>=17 in c:\\users\\phuong.ngo\\anaconda3\\lib\\site-packages (from notebook>=5.6.0->jupyterthemes) (19.0.2)\n",
      "Requirement already satisfied: jupyter-client>=5.3.4 in c:\\users\\phuong.ngo\\anaconda3\\lib\\site-packages (from notebook>=5.6.0->jupyterthemes) (6.1.7)\n",
      "Requirement already satisfied: prometheus-client in c:\\users\\phuong.ngo\\anaconda3\\lib\\site-packages (from notebook>=5.6.0->jupyterthemes) (0.8.0)\n",
      "Requirement already satisfied: jinja2 in c:\\users\\phuong.ngo\\anaconda3\\lib\\site-packages (from notebook>=5.6.0->jupyterthemes) (2.11.2)\n",
      "Requirement already satisfied: nbconvert in c:\\users\\phuong.ngo\\anaconda3\\lib\\site-packages (from notebook>=5.6.0->jupyterthemes) (6.0.7)\n",
      "Requirement already satisfied: nbformat in c:\\users\\phuong.ngo\\anaconda3\\lib\\site-packages (from notebook>=5.6.0->jupyterthemes) (5.0.8)\n",
      "Requirement already satisfied: terminado>=0.8.3 in c:\\users\\phuong.ngo\\anaconda3\\lib\\site-packages (from notebook>=5.6.0->jupyterthemes) (0.9.1)\n",
      "Requirement already satisfied: argon2-cffi in c:\\users\\phuong.ngo\\anaconda3\\lib\\site-packages (from notebook>=5.6.0->jupyterthemes) (20.1.0)\n",
      "Requirement already satisfied: ipykernel in c:\\users\\phuong.ngo\\anaconda3\\lib\\site-packages (from notebook>=5.6.0->jupyterthemes) (5.3.4)\n",
      "Requirement already satisfied: Send2Trash in c:\\users\\phuong.ngo\\anaconda3\\lib\\site-packages (from notebook>=5.6.0->jupyterthemes) (1.5.0)\n",
      "Requirement already satisfied: ipython-genutils in c:\\users\\phuong.ngo\\anaconda3\\lib\\site-packages (from notebook>=5.6.0->jupyterthemes) (0.2.0)\n",
      "Requirement already satisfied: six in c:\\users\\phuong.ngo\\anaconda3\\lib\\site-packages (from lesscpy>=0.11.2->jupyterthemes) (1.15.0)\n",
      "Requirement already satisfied: ply in c:\\users\\phuong.ngo\\anaconda3\\lib\\site-packages (from lesscpy>=0.11.2->jupyterthemes) (3.11)\n",
      "Requirement already satisfied: pickleshare in c:\\users\\phuong.ngo\\anaconda3\\lib\\site-packages (from ipython>=5.4.1->jupyterthemes) (0.7.5)\n",
      "Requirement already satisfied: backcall in c:\\users\\phuong.ngo\\anaconda3\\lib\\site-packages (from ipython>=5.4.1->jupyterthemes) (0.2.0)\n",
      "Requirement already satisfied: colorama; sys_platform == \"win32\" in c:\\users\\phuong.ngo\\anaconda3\\lib\\site-packages (from ipython>=5.4.1->jupyterthemes) (0.4.4)\n",
      "Requirement already satisfied: prompt-toolkit!=3.0.0,!=3.0.1,<3.1.0,>=2.0.0 in c:\\users\\phuong.ngo\\anaconda3\\lib\\site-packages (from ipython>=5.4.1->jupyterthemes) (3.0.8)\n",
      "Requirement already satisfied: jedi>=0.10 in c:\\users\\phuong.ngo\\anaconda3\\lib\\site-packages (from ipython>=5.4.1->jupyterthemes) (0.17.1)\n",
      "Requirement already satisfied: decorator in c:\\users\\phuong.ngo\\anaconda3\\lib\\site-packages (from ipython>=5.4.1->jupyterthemes) (4.4.2)\n",
      "Requirement already satisfied: setuptools>=18.5 in c:\\users\\phuong.ngo\\anaconda3\\lib\\site-packages (from ipython>=5.4.1->jupyterthemes) (50.3.1.post20201107)\n",
      "Requirement already satisfied: pygments in c:\\users\\phuong.ngo\\anaconda3\\lib\\site-packages (from ipython>=5.4.1->jupyterthemes) (2.7.2)\n",
      "Requirement already satisfied: MarkupSafe>=0.23 in c:\\users\\phuong.ngo\\anaconda3\\lib\\site-packages (from jinja2->notebook>=5.6.0->jupyterthemes) (1.1.1)\n",
      "Requirement already satisfied: entrypoints>=0.2.2 in c:\\users\\phuong.ngo\\anaconda3\\lib\\site-packages (from nbconvert->notebook>=5.6.0->jupyterthemes) (0.3)\n",
      "Requirement already satisfied: testpath in c:\\users\\phuong.ngo\\anaconda3\\lib\\site-packages (from nbconvert->notebook>=5.6.0->jupyterthemes) (0.4.4)\n",
      "Requirement already satisfied: nbclient<0.6.0,>=0.5.0 in c:\\users\\phuong.ngo\\anaconda3\\lib\\site-packages (from nbconvert->notebook>=5.6.0->jupyterthemes) (0.5.1)\n",
      "Requirement already satisfied: pandocfilters>=1.4.1 in c:\\users\\phuong.ngo\\anaconda3\\lib\\site-packages (from nbconvert->notebook>=5.6.0->jupyterthemes) (1.4.3)\n",
      "Requirement already satisfied: defusedxml in c:\\users\\phuong.ngo\\anaconda3\\lib\\site-packages (from nbconvert->notebook>=5.6.0->jupyterthemes) (0.6.0)\n",
      "Requirement already satisfied: mistune<2,>=0.8.1 in c:\\users\\phuong.ngo\\anaconda3\\lib\\site-packages (from nbconvert->notebook>=5.6.0->jupyterthemes) (0.8.4)\n",
      "Requirement already satisfied: jupyterlab-pygments in c:\\users\\phuong.ngo\\anaconda3\\lib\\site-packages (from nbconvert->notebook>=5.6.0->jupyterthemes) (0.1.2)\n",
      "Requirement already satisfied: bleach in c:\\users\\phuong.ngo\\anaconda3\\lib\\site-packages (from nbconvert->notebook>=5.6.0->jupyterthemes) (3.2.1)\n",
      "Requirement already satisfied: jsonschema!=2.5.0,>=2.4 in c:\\users\\phuong.ngo\\anaconda3\\lib\\site-packages (from nbformat->notebook>=5.6.0->jupyterthemes) (3.2.0)\n",
      "Requirement already satisfied: pywinpty>=0.5 in c:\\users\\phuong.ngo\\anaconda3\\lib\\site-packages (from terminado>=0.8.3->notebook>=5.6.0->jupyterthemes) (0.5.7)\n",
      "Requirement already satisfied: cffi>=1.0.0 in c:\\users\\phuong.ngo\\anaconda3\\lib\\site-packages (from argon2-cffi->notebook>=5.6.0->jupyterthemes) (1.14.3)\n",
      "Requirement already satisfied: wcwidth in c:\\users\\phuong.ngo\\anaconda3\\lib\\site-packages (from prompt-toolkit!=3.0.0,!=3.0.1,<3.1.0,>=2.0.0->ipython>=5.4.1->jupyterthemes) (0.2.5)\n",
      "Requirement already satisfied: parso<0.8.0,>=0.7.0 in c:\\users\\phuong.ngo\\anaconda3\\lib\\site-packages (from jedi>=0.10->ipython>=5.4.1->jupyterthemes) (0.7.0)\n",
      "Requirement already satisfied: async-generator in c:\\users\\phuong.ngo\\anaconda3\\lib\\site-packages (from nbclient<0.6.0,>=0.5.0->nbconvert->notebook>=5.6.0->jupyterthemes) (1.10)\n",
      "Requirement already satisfied: nest-asyncio in c:\\users\\phuong.ngo\\anaconda3\\lib\\site-packages (from nbclient<0.6.0,>=0.5.0->nbconvert->notebook>=5.6.0->jupyterthemes) (1.4.2)\n",
      "Note: you may need to restart the kernel to use updated packages.\n",
      "Requirement already satisfied: packaging in c:\\users\\phuong.ngo\\anaconda3\\lib\\site-packages (from bleach->nbconvert->notebook>=5.6.0->jupyterthemes) (20.4)\n",
      "Requirement already satisfied: webencodings in c:\\users\\phuong.ngo\\anaconda3\\lib\\site-packages (from bleach->nbconvert->notebook>=5.6.0->jupyterthemes) (0.5.1)\n",
      "Requirement already satisfied: attrs>=17.4.0 in c:\\users\\phuong.ngo\\anaconda3\\lib\\site-packages (from jsonschema!=2.5.0,>=2.4->nbformat->notebook>=5.6.0->jupyterthemes) (20.3.0)\n",
      "Requirement already satisfied: pyrsistent>=0.14.0 in c:\\users\\phuong.ngo\\anaconda3\\lib\\site-packages (from jsonschema!=2.5.0,>=2.4->nbformat->notebook>=5.6.0->jupyterthemes) (0.17.3)\n",
      "Requirement already satisfied: pycparser in c:\\users\\phuong.ngo\\anaconda3\\lib\\site-packages (from cffi>=1.0.0->argon2-cffi->notebook>=5.6.0->jupyterthemes) (2.20)\n",
      "Installing collected packages: lesscpy, jupyterthemes\n",
      "Successfully installed jupyterthemes-0.20.0 lesscpy-0.14.0\n"
     ]
    }
   ],
   "source": [
    "pip install jupyterthemes"
>>>>>>> Stashed changes
   ]
  },
  {
   "cell_type": "code",
   "execution_count": 2,
   "metadata": {},
   "outputs": [
    {
     "name": "stdout",
     "output_type": "stream",
     "text": [
      "Available Themes: \n",
      "   chesterish\n",
      "   grade3\n",
      "   gruvboxd\n",
      "   gruvboxl\n",
      "   monokai\n",
      "   oceans16\n",
      "   onedork\n",
      "   solarizedd\n",
      "   solarizedl\n"
     ]
    }
   ],
   "source": [
    "!jt -l"
   ]
  },
  {
   "cell_type": "code",
   "execution_count": 3,
   "metadata": {},
   "outputs": [],
   "source": [
<<<<<<< Updated upstream
    "!jt -ofs 10"
   ]
  },
  {
   "cell_type": "code",
   "execution_count": 4,
   "metadata": {},
   "outputs": [
    {
     "name": "stdout",
     "output_type": "stream",
     "text": [
      "Available Themes: \n",
      "   chesterish\n",
      "   grade3\n",
      "   gruvboxd\n",
      "   gruvboxl\n",
      "   monokai\n",
      "   oceans16\n",
      "   onedork\n",
      "   solarizedd\n",
      "   solarizedl\n"
     ]
    }
   ],
   "source": [
    "!jt -l"
=======
    "!jt -t oceans16 -T -N -fs 12 -cursc r -cursw 5"
>>>>>>> Stashed changes
   ]
  },
  {
   "cell_type": "code",
<<<<<<< Updated upstream
   "execution_count": 5,
   "metadata": {},
   "outputs": [],
   "source": [
    "!jt -dfs 10"
=======
   "execution_count": 1,
   "metadata": {},
   "outputs": [],
   "source": [
    "!jt -fs\t13"
>>>>>>> Stashed changes
   ]
  },
  {
   "cell_type": "code",
<<<<<<< Updated upstream
   "execution_count": 6,
=======
   "execution_count": 2,
>>>>>>> Stashed changes
   "metadata": {},
   "outputs": [
    {
     "name": "stdout",
     "output_type": "stream",
     "text": [
      "Available Themes: \n",
      "   chesterish\n",
      "   grade3\n",
      "   gruvboxd\n",
      "   gruvboxl\n",
      "   monokai\n",
      "   oceans16\n",
      "   onedork\n",
      "   solarizedd\n",
      "   solarizedl\n"
     ]
    }
   ],
   "source": [
    "!jt -l"
   ]
  },
  {
   "cell_type": "code",
<<<<<<< Updated upstream
   "execution_count": 7,
=======
   "execution_count": 3,
>>>>>>> Stashed changes
   "metadata": {},
   "outputs": [
    {
     "name": "stdout",
     "output_type": "stream",
     "text": [
<<<<<<< Updated upstream
      "usage: jt [-h] [-l] [-t THEME] [-f MONOFONT] [-fs MONOSIZE] [-nf NBFONT]\n",
      "          [-nfs NBFONTSIZE] [-tf TCFONT] [-tfs TCFONTSIZE] [-dfs DFFONTSIZE]\n",
      "          [-ofs OUTFONTSIZE] [-mathfs MATHFONTSIZE] [-m MARGINS]\n",
      "          [-cursw CURSORWIDTH] [-cursc CURSORCOLOR] [-cellw CELLWIDTH]\n",
      "          [-lineh LINEHEIGHT] [-altp] [-altmd] [-altout] [-P] [-T] [-N] [-kl]\n",
      "          [-vim] [-r] [-dfonts]\n",
      "\n",
      "optional arguments:\n",
      "  -h, --help            show this help message and exit\n",
      "  -l, --list            list available themes\n",
      "  -t THEME, --theme THEME\n",
      "                        theme name to install\n",
      "  -f MONOFONT, --monofont MONOFONT\n",
      "                        monospace code font\n",
      "  -fs MONOSIZE, --monosize MONOSIZE\n",
      "                        code font-size\n",
      "  -nf NBFONT, --nbfont NBFONT\n",
      "                        notebook font\n",
      "  -nfs NBFONTSIZE, --nbfontsize NBFONTSIZE\n",
      "                        notebook fontsize\n",
      "  -tf TCFONT, --tcfont TCFONT\n",
      "                        txtcell font\n",
      "  -tfs TCFONTSIZE, --tcfontsize TCFONTSIZE\n",
      "                        txtcell fontsize\n",
      "  -dfs DFFONTSIZE, --dffontsize DFFONTSIZE\n",
      "                        pandas dataframe fontsize\n",
      "  -ofs OUTFONTSIZE, --outfontsize OUTFONTSIZE\n",
      "                        output area fontsize\n",
      "  -mathfs MATHFONTSIZE, --mathfontsize MATHFONTSIZE\n",
      "                        mathjax fontsize (in %)\n",
      "  -m MARGINS, --margins MARGINS\n",
      "                        fix margins of main intro page\n",
      "  -cursw CURSORWIDTH, --cursorwidth CURSORWIDTH\n",
      "                        set cursorwidth (px)\n",
      "  -cursc CURSORCOLOR, --cursorcolor CURSORCOLOR\n",
      "                        cursor color (r, b, g, p)\n",
      "  -cellw CELLWIDTH, --cellwidth CELLWIDTH\n",
      "                        set cell width (px or %)\n",
      "  -lineh LINEHEIGHT, --lineheight LINEHEIGHT\n",
      "                        code/text line-height (%)\n",
      "  -altp, --altprompt    alt input prompt style\n",
      "  -altmd, --altmarkdown\n",
      "                        alt markdown cell style\n",
      "  -altout, --altoutput  set output bg color to notebook bg\n",
      "  -P, --hideprompt      hide cell input prompt\n",
      "  -T, --toolbar         make toolbar visible\n",
      "  -N, --nbname          nb name/logo visible\n",
      "  -kl, --kernellogo     kernel logo visible\n",
      "  -vim, --vimext        toggle styles for vim\n",
      "  -r, --reset           reset to default theme\n",
      "  -dfonts, --defaultfonts\n",
      "                        force fonts to browser default\n"
=======
      "\n",
      "\tOne of the fonts you requested is not available\n",
      "\tSetting all fonts to default\n"
     ]
    },
    {
     "name": "stderr",
     "output_type": "stream",
     "text": [
      "Traceback (most recent call last):\n",
      "  File \"c:\\users\\phuong.ngo\\anaconda3\\lib\\runpy.py\", line 194, in _run_module_as_main\n",
      "    return _run_code(code, main_globals, None,\n",
      "  File \"c:\\users\\phuong.ngo\\anaconda3\\lib\\runpy.py\", line 87, in _run_code\n",
      "    exec(code, run_globals)\n",
      "  File \"C:\\Users\\Phuong.Ngo\\Anaconda3\\Scripts\\jt.exe\\__main__.py\", line 7, in <module>\n",
      "  File \"c:\\users\\phuong.ngo\\anaconda3\\lib\\site-packages\\jupyterthemes\\__init__.py\", line 290, in main\n",
      "    install_theme(\n",
      "  File \"c:\\users\\phuong.ngo\\anaconda3\\lib\\site-packages\\jupyterthemes\\__init__.py\", line 69, in install_theme\n",
      "    style_less = stylefx.set_font_properties(\n",
      "  File \"c:\\users\\phuong.ngo\\anaconda3\\lib\\site-packages\\jupyterthemes\\stylefx.py\", line 156, in set_font_properties\n",
      "    nbfont, nbfontpath = stored_font_dicts(nbfont)\n",
      "ValueError: not enough values to unpack (expected 2, got 0)\n"
>>>>>>> Stashed changes
     ]
    }
   ],
   "source": [
<<<<<<< Updated upstream
    "!jt -h"
=======
    "!jt -nf 12"
>>>>>>> Stashed changes
   ]
  },
  {
   "cell_type": "code",
<<<<<<< Updated upstream
   "execution_count": 10,
   "metadata": {},
   "outputs": [],
   "source": [
    "!jt -t chesterish -T -N -fs 12 -ofs 11"
=======
   "execution_count": 4,
   "metadata": {},
   "outputs": [],
   "source": [
    "!jt -ofs 10"
>>>>>>> Stashed changes
   ]
  },
  {
   "cell_type": "code",
<<<<<<< Updated upstream
   "execution_count": 9,
=======
   "execution_count": 5,
>>>>>>> Stashed changes
   "metadata": {},
   "outputs": [
    {
     "name": "stdout",
     "output_type": "stream",
     "text": [
<<<<<<< Updated upstream
      "usage: jt [-h] [-l] [-t THEME] [-f MONOFONT] [-fs MONOSIZE] [-nf NBFONT]\n",
      "          [-nfs NBFONTSIZE] [-tf TCFONT] [-tfs TCFONTSIZE] [-dfs DFFONTSIZE]\n",
      "          [-ofs OUTFONTSIZE] [-mathfs MATHFONTSIZE] [-m MARGINS]\n",
      "          [-cursw CURSORWIDTH] [-cursc CURSORCOLOR] [-cellw CELLWIDTH]\n",
      "          [-lineh LINEHEIGHT] [-altp] [-altmd] [-altout] [-P] [-T] [-N] [-kl]\n",
      "          [-vim] [-r] [-dfonts]\n",
      "\n",
      "optional arguments:\n",
      "  -h, --help            show this help message and exit\n",
      "  -l, --list            list available themes\n",
      "  -t THEME, --theme THEME\n",
      "                        theme name to install\n",
      "  -f MONOFONT, --monofont MONOFONT\n",
      "                        monospace code font\n",
      "  -fs MONOSIZE, --monosize MONOSIZE\n",
      "                        code font-size\n",
      "  -nf NBFONT, --nbfont NBFONT\n",
      "                        notebook font\n",
      "  -nfs NBFONTSIZE, --nbfontsize NBFONTSIZE\n",
      "                        notebook fontsize\n",
      "  -tf TCFONT, --tcfont TCFONT\n",
      "                        txtcell font\n",
      "  -tfs TCFONTSIZE, --tcfontsize TCFONTSIZE\n",
      "                        txtcell fontsize\n",
      "  -dfs DFFONTSIZE, --dffontsize DFFONTSIZE\n",
      "                        pandas dataframe fontsize\n",
      "  -ofs OUTFONTSIZE, --outfontsize OUTFONTSIZE\n",
      "                        output area fontsize\n",
      "  -mathfs MATHFONTSIZE, --mathfontsize MATHFONTSIZE\n",
      "                        mathjax fontsize (in %)\n",
      "  -m MARGINS, --margins MARGINS\n",
      "                        fix margins of main intro page\n",
      "  -cursw CURSORWIDTH, --cursorwidth CURSORWIDTH\n",
      "                        set cursorwidth (px)\n",
      "  -cursc CURSORCOLOR, --cursorcolor CURSORCOLOR\n",
      "                        cursor color (r, b, g, p)\n",
      "  -cellw CELLWIDTH, --cellwidth CELLWIDTH\n",
      "                        set cell width (px or %)\n",
      "  -lineh LINEHEIGHT, --lineheight LINEHEIGHT\n",
      "                        code/text line-height (%)\n",
      "  -altp, --altprompt    alt input prompt style\n",
      "  -altmd, --altmarkdown\n",
      "                        alt markdown cell style\n",
      "  -altout, --altoutput  set output bg color to notebook bg\n",
      "  -P, --hideprompt      hide cell input prompt\n",
      "  -T, --toolbar         make toolbar visible\n",
      "  -N, --nbname          nb name/logo visible\n",
      "  -kl, --kernellogo     kernel logo visible\n",
      "  -vim, --vimext        toggle styles for vim\n",
      "  -r, --reset           reset to default theme\n",
      "  -dfonts, --defaultfonts\n",
      "                        force fonts to browser default\n"
     ]
    }
   ],
   "source": []
=======
      "Available Themes: \n",
      "   chesterish\n",
      "   grade3\n",
      "   gruvboxd\n",
      "   gruvboxl\n",
      "   monokai\n",
      "   oceans16\n",
      "   onedork\n",
      "   solarizedd\n",
      "   solarizedl\n"
     ]
    }
   ],
   "source": [
    "!jt -l"
   ]
  },
  {
   "cell_type": "code",
   "execution_count": 7,
   "metadata": {},
   "outputs": [],
   "source": [
    "!jt -t oceans16 -T -N"
   ]
>>>>>>> Stashed changes
  },
  {
   "cell_type": "code",
   "execution_count": null,
   "metadata": {},
   "outputs": [],
   "source": []
  }
 ],
 "metadata": {
  "kernelspec": {
   "display_name": "Python 3",
   "language": "python",
   "name": "python3"
  },
  "language_info": {
   "codemirror_mode": {
    "name": "ipython",
    "version": 3
   },
   "file_extension": ".py",
   "mimetype": "text/x-python",
   "name": "python",
   "nbconvert_exporter": "python",
   "pygments_lexer": "ipython3",
   "version": "3.8.5"
  }
 },
 "nbformat": 4,
 "nbformat_minor": 4
}
